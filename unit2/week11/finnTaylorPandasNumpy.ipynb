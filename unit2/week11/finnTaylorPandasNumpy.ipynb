{
  "cells": [
    {
      "cell_type": "markdown",
      "metadata": {
        "id": "NGbpM235imUY"
      },
      "source": [
        "# Pandas"
      ]
    },
    {
      "cell_type": "markdown",
      "metadata": {
        "id": "6JmRTZIDimUZ"
      },
      "source": [
        "NumPy is good at performing math operations on 2d-arrays of numbers. But the major drawback is, it cannot deal with heterogeneous values. So, Pandas dataframes are helpful in that aspect for storing different data types and referring to the values like a dict in python instead of just referring to each item with index.\n",
        "\n",
        "[Link to Official Documentation](http://pandas.pydata.org/pandas-docs/version/0.23/dsintro.html)"
      ]
    },
    {
      "cell_type": "markdown",
      "metadata": {
        "id": "qMeCeGC1imUa"
      },
      "source": [
        "## Series"
      ]
    },
    {
      "cell_type": "markdown",
      "metadata": {
        "id": "Gg6lOYuKimUb"
      },
      "source": [
        "Pandas series are almost the same as nd arrays in numpy, with an additional inferencing ability with custom labels like *keys* in a *dictionary* in python."
      ]
    },
    {
      "cell_type": "code",
      "execution_count": 1,
      "metadata": {
        "id": "xPVbrdRnimUc"
      },
      "outputs": [],
      "source": [
        "import numpy as np\n",
        "import pandas as pd"
      ]
    },
    {
      "cell_type": "code",
      "execution_count": 3,
      "metadata": {
        "colab": {
          "base_uri": "https://localhost:8080/",
          "height": 85
        },
        "id": "qJkKk8dCimUi",
        "outputId": "fabf3b29-9ab5-45d5-d36f-11af8fd09ea8"
      },
      "outputs": [
        {
          "data": {
            "text/plain": [
              "key1    1\n",
              "key2    2\n",
              "key3    3\n",
              "dtype: int64"
            ]
          },
          "execution_count": 3,
          "metadata": {},
          "output_type": "execute_result"
        }
      ],
      "source": [
        "#Example\n",
        "\n",
        "series1 = pd.Series(data = [1,2,3], index = ['key1', 'key2', 'key3'])\n",
        "series1"
      ]
    },
    {
      "cell_type": "markdown",
      "metadata": {
        "id": "ISm_szGHimUp"
      },
      "source": [
        "### Question 1\n",
        "\n",
        "Create a dictionary with 3 key value pairs and convert it to series.\n",
        "\n",
        "[**Hint:** Use **.Series**]"
      ]
    },
    {
      "cell_type": "code",
      "execution_count": 2,
      "metadata": {
        "id": "aJmGABMjimUq"
      },
      "outputs": [
        {
          "name": "stdout",
          "output_type": "stream",
          "text": [
            "1     Finn\n",
            "2    Lucas\n",
            "3    Jacob\n",
            "dtype: object\n"
          ]
        }
      ],
      "source": [
        "question1Series = pd.Series([\"Finn\", \"Lucas\", \"Jacob\"], [1, 2, 3])\n",
        "print(question1Series)"
      ]
    },
    {
      "cell_type": "markdown",
      "metadata": {
        "id": "gTcEnQVgimU2"
      },
      "source": [
        "You can directly use numpy functions on series.\n",
        "### Question 2\n",
        "\n",
        "Find the dot product of both the series 1st used in example and 2nd you created\n",
        "\n",
        "[ **Hint:** Use **np.dot()** ]"
      ]
    },
    {
      "cell_type": "code",
      "execution_count": 5,
      "metadata": {
        "id": "pJhebO5DimU3"
      },
      "outputs": [
        {
          "name": "stdout",
          "output_type": "stream",
          "text": [
            "FinnLucasLucasJacobJacobJacob\n"
          ]
        }
      ],
      "source": [
        "print(np.dot(series1, question1Series))\n"
      ]
    },
    {
      "cell_type": "markdown",
      "metadata": {
        "id": "D5NfdpZpimU-"
      },
      "source": [
        "## Dataframes"
      ]
    },
    {
      "cell_type": "markdown",
      "metadata": {
        "id": "K2uJRv-nimVC"
      },
      "source": [
        "A dataframe is a table with labeled columns which can hold different types of data in each column. "
      ]
    },
    {
      "cell_type": "code",
      "execution_count": 6,
      "metadata": {
        "colab": {
          "base_uri": "https://localhost:8080/",
          "height": 142
        },
        "id": "sXQQndxOimVC",
        "outputId": "23fef383-134f-46dd-e038-db23b0d6a6c6"
      },
      "outputs": [
        {
          "data": {
            "text/html": [
              "<div>\n",
              "<style scoped>\n",
              "    .dataframe tbody tr th:only-of-type {\n",
              "        vertical-align: middle;\n",
              "    }\n",
              "\n",
              "    .dataframe tbody tr th {\n",
              "        vertical-align: top;\n",
              "    }\n",
              "\n",
              "    .dataframe thead th {\n",
              "        text-align: right;\n",
              "    }\n",
              "</style>\n",
              "<table border=\"1\" class=\"dataframe\">\n",
              "  <thead>\n",
              "    <tr style=\"text-align: right;\">\n",
              "      <th></th>\n",
              "      <th>a</th>\n",
              "      <th>b</th>\n",
              "      <th>c</th>\n",
              "    </tr>\n",
              "  </thead>\n",
              "  <tbody>\n",
              "    <tr>\n",
              "      <th>0</th>\n",
              "      <td>1</td>\n",
              "      <td>3</td>\n",
              "      <td>6</td>\n",
              "    </tr>\n",
              "    <tr>\n",
              "      <th>1</th>\n",
              "      <td>2</td>\n",
              "      <td>4</td>\n",
              "      <td>7</td>\n",
              "    </tr>\n",
              "    <tr>\n",
              "      <th>2</th>\n",
              "      <td>3</td>\n",
              "      <td>5</td>\n",
              "      <td>8</td>\n",
              "    </tr>\n",
              "  </tbody>\n",
              "</table>\n",
              "</div>"
            ],
            "text/plain": [
              "   a  b  c\n",
              "0  1  3  6\n",
              "1  2  4  7\n",
              "2  3  5  8"
            ]
          },
          "execution_count": 6,
          "metadata": {},
          "output_type": "execute_result"
        }
      ],
      "source": [
        "# Example\n",
        "d1 = {'a': [1,2,3], 'b': [3,4,5], 'c':[6,7,8] }\n",
        "df1 = pd.DataFrame(d1)\n",
        "df1"
      ]
    },
    {
      "cell_type": "markdown",
      "metadata": {
        "id": "C7eOrgh_imVO"
      },
      "source": [
        "### Question 3\n",
        "\n",
        "Select second row in the above dataframe df1.\n",
        "\n"
      ]
    },
    {
      "cell_type": "code",
      "execution_count": 17,
      "metadata": {
        "id": "FLufft0ximVP"
      },
      "outputs": [
        {
          "name": "stdout",
          "output_type": "stream",
          "text": [
            "a    2\n",
            "b    4\n",
            "c    7\n",
            "Name: 1, dtype: int64\n"
          ]
        }
      ],
      "source": [
        "print(df1.loc[1])"
      ]
    },
    {
      "cell_type": "markdown",
      "metadata": {
        "id": "oJAeOkP6imVW"
      },
      "source": [
        "### Question 4\n",
        "\n",
        "Select column c in second row of df1.\n",
        "\n",
        "[ **Hint:** For using labels use **df.loc[row, column]**. For using numeric indexes use **df.iloc[]**. ]"
      ]
    },
    {
      "cell_type": "code",
      "execution_count": 27,
      "metadata": {
        "id": "vYwAvGAwimVX"
      },
      "outputs": [
        {
          "name": "stdout",
          "output_type": "stream",
          "text": [
            "7\n"
          ]
        }
      ],
      "source": [
        "print(df1.iloc[1, 2])"
      ]
    },
    {
      "cell_type": "markdown",
      "metadata": {
        "id": "zNXwK9zeimVc"
      },
      "source": [
        "## Using Dataframes on a dataset"
      ]
    },
    {
      "cell_type": "markdown",
      "metadata": {
        "id": "-DhqCFa6imVc"
      },
      "source": [
        "##### Using the mtcars dataset.\n",
        "\n",
        "For the below set of questions, we will be using the cars data from [Motor Trend Car Road Tests](http://stat.ethz.ch/R-manual/R-devel/library/datasets/html/mtcars.html)\n",
        "\n",
        "The data was extracted from the 1974 Motor Trend US magazine, and comprises fuel consumption and 10 aspects of automobile design and performance for 32 automobiles (1973–74 models). \n",
        "\n",
        "\n",
        "Details :\n",
        "    \n",
        "A data frame with 32 observations on 11 (numeric) variables.\n",
        "\n",
        "[, 1] \tmpg \tMiles/(US) gallon\n",
        "\n",
        "[, 2] \tcyl \tNumber of cylinders\n",
        "\n",
        "[, 3] \tdisp \tDisplacement (cu.in.)\n",
        "\n",
        "[, 4] \thp \tGross horsepower\n",
        "\n",
        "[, 5] \tdrat \tRear axle ratio\n",
        "\n",
        "[, 6] \twt \tWeight (1000 lbs)\n",
        "\n",
        "[, 7] \tqsec \t1/4 mile time\n",
        "\n",
        "[, 8] \tvs \tEngine (0 = V-shaped, 1 = straight)\n",
        "\n",
        "[, 9] \tam \tTransmission (0 = automatic, 1 = manual)\n",
        "\n",
        "[,10] \tgear \tNumber of forward gears\n",
        "\n",
        "[,11] \tcarb \tNumber of carburetors "
      ]
    },
    {
      "cell_type": "code",
      "execution_count": 28,
      "metadata": {
        "id": "uyUEb7KximVd"
      },
      "outputs": [],
      "source": [
        "## Reading a dataset from a csv file using pandas.\n",
        "mtcars = pd.read_csv('mtcars.csv')\n",
        "mtcars.index = mtcars['name']"
      ]
    },
    {
      "cell_type": "markdown",
      "metadata": {
        "id": "QTLW6UZQimVi"
      },
      "source": [
        "Following questions are based on analysing a particular dataset using pandas dataframes."
      ]
    },
    {
      "cell_type": "markdown",
      "metadata": {
        "id": "PQlUZ1c-imVk"
      },
      "source": [
        "### Question 5\n",
        "\n",
        "Check the type and dimensions of the given dataset (mtcars).\n",
        "\n",
        "\n",
        "[ **Hint:** Use **type()** and **df.shape** ]"
      ]
    },
    {
      "cell_type": "code",
      "execution_count": 32,
      "metadata": {
        "id": "8Lu7Ax7mimVn"
      },
      "outputs": [
        {
          "name": "stdout",
          "output_type": "stream",
          "text": [
            "<class 'pandas.core.frame.DataFrame'>\n",
            "(32, 12)\n"
          ]
        }
      ],
      "source": [
        "df = mtcars\n",
        "print(type(df))\n",
        "print(df.shape)"
      ]
    },
    {
      "cell_type": "markdown",
      "metadata": {
        "id": "kWsZtM4OimVs"
      },
      "source": [
        "### Question 6\n",
        "\n",
        "Check the first 10 lines and last 10 lines of the given dataset (mtcars).\n",
        "\n",
        "[ **Hint:** Use **.head()** and **.tail()** ]"
      ]
    },
    {
      "cell_type": "code",
      "execution_count": 35,
      "metadata": {
        "id": "26Sjs2zZimVs"
      },
      "outputs": [
        {
          "name": "stdout",
          "output_type": "stream",
          "text": [
            "                                name   mpg  cyl   disp   hp  drat     wt  \\\n",
            "name                                                                       \n",
            "Mazda RX4                  Mazda RX4  21.0    6  160.0  110  3.90  2.620   \n",
            "Mazda RX4 Wag          Mazda RX4 Wag  21.0    6  160.0  110  3.90  2.875   \n",
            "Datsun 710                Datsun 710  22.8    4  108.0   93  3.85  2.320   \n",
            "Hornet 4 Drive        Hornet 4 Drive  21.4    6  258.0  110  3.08  3.215   \n",
            "Hornet Sportabout  Hornet Sportabout  18.7    8  360.0  175  3.15  3.440   \n",
            "Valiant                      Valiant  18.1    6  225.0  105  2.76  3.460   \n",
            "Duster 360                Duster 360  14.3    8  360.0  245  3.21  3.570   \n",
            "Merc 240D                  Merc 240D  24.4    4  146.7   62  3.69  3.190   \n",
            "Merc 230                    Merc 230  22.8    4  140.8   95  3.92  3.150   \n",
            "Merc 280                    Merc 280  19.2    6  167.6  123  3.92  3.440   \n",
            "\n",
            "                    qsec  vs  am  gear  carb  \n",
            "name                                          \n",
            "Mazda RX4          16.46   0   1     4     4  \n",
            "Mazda RX4 Wag      17.02   0   1     4     4  \n",
            "Datsun 710         18.61   1   1     4     1  \n",
            "Hornet 4 Drive     19.44   1   0     3     1  \n",
            "Hornet Sportabout  17.02   0   0     3     2  \n",
            "Valiant            20.22   1   0     3     1  \n",
            "Duster 360         15.84   0   0     3     4  \n",
            "Merc 240D          20.00   1   0     4     2  \n",
            "Merc 230           22.90   1   0     4     2  \n",
            "Merc 280           18.30   1   0     4     4  \n",
            "                              name   mpg  cyl   disp   hp  drat     wt   qsec  \\\n",
            "name                                                                            \n",
            "AMC Javelin            AMC Javelin  15.2    8  304.0  150  3.15  3.435  17.30   \n",
            "Camaro Z28              Camaro Z28  13.3    8  350.0  245  3.73  3.840  15.41   \n",
            "Pontiac Firebird  Pontiac Firebird  19.2    8  400.0  175  3.08  3.845  17.05   \n",
            "Fiat X1-9                Fiat X1-9  27.3    4   79.0   66  4.08  1.935  18.90   \n",
            "Porsche 914-2        Porsche 914-2  26.0    4  120.3   91  4.43  2.140  16.70   \n",
            "Lotus Europa          Lotus Europa  30.4    4   95.1  113  3.77  1.513  16.90   \n",
            "Ford Pantera L      Ford Pantera L  15.8    8  351.0  264  4.22  3.170  14.50   \n",
            "Ferrari Dino          Ferrari Dino  19.7    6  145.0  175  3.62  2.770  15.50   \n",
            "Maserati Bora        Maserati Bora  15.0    8  301.0  335  3.54  3.570  14.60   \n",
            "Volvo 142E              Volvo 142E  21.4    4  121.0  109  4.11  2.780  18.60   \n",
            "\n",
            "                  vs  am  gear  carb  \n",
            "name                                  \n",
            "AMC Javelin        0   0     3     2  \n",
            "Camaro Z28         0   0     3     4  \n",
            "Pontiac Firebird   0   0     3     2  \n",
            "Fiat X1-9          1   1     4     1  \n",
            "Porsche 914-2      0   1     5     2  \n",
            "Lotus Europa       1   1     5     2  \n",
            "Ford Pantera L     0   1     5     4  \n",
            "Ferrari Dino       0   1     5     6  \n",
            "Maserati Bora      0   1     5     8  \n",
            "Volvo 142E         1   1     4     2  \n"
          ]
        }
      ],
      "source": [
        "print(df.head(10))\n",
        "print(df.tail(10))"
      ]
    },
    {
      "cell_type": "markdown",
      "metadata": {
        "id": "R4bazKK1i4c9"
      },
      "source": [
        "### Question 7\n",
        "\n",
        "Print all the column labels in the given dataset (mtcars)."
      ]
    },
    {
      "cell_type": "code",
      "execution_count": 37,
      "metadata": {
        "id": "i7IqL-2xi4c-"
      },
      "outputs": [
        {
          "name": "stdout",
          "output_type": "stream",
          "text": [
            "['name', 'mpg', 'cyl', 'disp', 'hp', 'drat', 'wt', 'qsec', 'vs', 'am', 'gear', 'carb']\n"
          ]
        }
      ],
      "source": [
        "print(list(df))"
      ]
    },
    {
      "cell_type": "markdown",
      "metadata": {
        "id": "sfE1P7I4i4dF"
      },
      "source": [
        "### Question 8"
      ]
    },
    {
      "cell_type": "markdown",
      "metadata": {
        "id": "FGAt6-yTi4dH"
      },
      "source": [
        "Select first 6 rows and 3 columns in mtcars dataset.\n",
        "\n",
        "[ **Hint:** **mtcars.iloc[ : , : ]** gives all rows and columns in the dataset ]"
      ]
    },
    {
      "cell_type": "code",
      "execution_count": 42,
      "metadata": {
        "id": "7qsBSNkbi4dI"
      },
      "outputs": [
        {
          "name": "stdout",
          "output_type": "stream",
          "text": [
            "                                name   mpg  cyl\n",
            "name                                           \n",
            "Mazda RX4                  Mazda RX4  21.0    6\n",
            "Mazda RX4 Wag          Mazda RX4 Wag  21.0    6\n",
            "Datsun 710                Datsun 710  22.8    4\n",
            "Hornet 4 Drive        Hornet 4 Drive  21.4    6\n",
            "Hornet Sportabout  Hornet Sportabout  18.7    8\n",
            "Valiant                      Valiant  18.1    6\n"
          ]
        }
      ],
      "source": [
        "print(df.iloc[:6, :3])"
      ]
    },
    {
      "cell_type": "markdown",
      "metadata": {
        "id": "vto7BE8oi4dO"
      },
      "source": [
        "### Question 9"
      ]
    },
    {
      "cell_type": "markdown",
      "metadata": {
        "id": "ue08Zx1mi4dV"
      },
      "source": [
        "Select rows from name **Mazda RX4** to **Valiant** in the mtcars dataset and display only mpg and cyl values of those cars. \n",
        "\n",
        "[ **Hint:** Use **iloc or loc** ]."
      ]
    },
    {
      "cell_type": "code",
      "execution_count": 45,
      "metadata": {
        "id": "J0VMVSMmi4dW"
      },
      "outputs": [
        {
          "name": "stdout",
          "output_type": "stream",
          "text": [
            "                    mpg  cyl\n",
            "name                        \n",
            "Mazda RX4          21.0    6\n",
            "Mazda RX4 Wag      21.0    6\n",
            "Datsun 710         22.8    4\n",
            "Hornet 4 Drive     21.4    6\n",
            "Hornet Sportabout  18.7    8\n",
            "Valiant            18.1    6\n"
          ]
        }
      ],
      "source": [
        "print(df.iloc[:6, 1:3])"
      ]
    },
    {
      "cell_type": "markdown",
      "metadata": {
        "id": "LY7F6EPs6bsQ"
      },
      "source": [
        "### Question 10\n",
        "\n",
        "Sort the dataframe by mpg (i.e. miles/gallon):\n",
        "\n",
        "[ **Hint**: **inplace = True** will make changes to the data ]"
      ]
    },
    {
      "cell_type": "code",
      "execution_count": 46,
      "metadata": {
        "id": "tENJygMw6eEX"
      },
      "outputs": [
        {
          "name": "stdout",
          "output_type": "stream",
          "text": [
            "name\n",
            "Lincoln Continental    10.4\n",
            "Cadillac Fleetwood     10.4\n",
            "Camaro Z28             13.3\n",
            "Duster 360             14.3\n",
            "Chrysler Imperial      14.7\n",
            "Maserati Bora          15.0\n",
            "Merc 450SLC            15.2\n",
            "AMC Javelin            15.2\n",
            "Dodge Challenger       15.5\n",
            "Ford Pantera L         15.8\n",
            "Merc 450SE             16.4\n",
            "Merc 450SL             17.3\n",
            "Merc 280C              17.8\n",
            "Valiant                18.1\n",
            "Hornet Sportabout      18.7\n",
            "Merc 280               19.2\n",
            "Pontiac Firebird       19.2\n",
            "Ferrari Dino           19.7\n",
            "Mazda RX4              21.0\n",
            "Mazda RX4 Wag          21.0\n",
            "Hornet 4 Drive         21.4\n",
            "Volvo 142E             21.4\n",
            "Toyota Corona          21.5\n",
            "Merc 230               22.8\n",
            "Datsun 710             22.8\n",
            "Merc 240D              24.4\n",
            "Porsche 914-2          26.0\n",
            "Fiat X1-9              27.3\n",
            "Lotus Europa           30.4\n",
            "Honda Civic            30.4\n",
            "Fiat 128               32.4\n",
            "Toyota Corolla         33.9\n",
            "Name: mpg, dtype: float64\n"
          ]
        }
      ],
      "source": [
        "sortedDf = df.sort_values(\"mpg\")\n",
        "print(sortedDf.iloc[:, 1])"
      ]
    },
    {
      "cell_type": "markdown",
      "metadata": {
        "id": "i5IEOORJAhd6"
      },
      "source": [
        "### Question 11\n",
        "\n",
        "Print the mean displacement and horsepower of the cars grouped by the number of cylinders."
      ]
    },
    {
      "cell_type": "code",
      "execution_count": 49,
      "metadata": {
        "id": "YpdF6jsgAhd7",
        "scrolled": true
      },
      "outputs": [
        {
          "name": "stdout",
          "output_type": "stream",
          "text": [
            "Avarage hp: 146.6875\n",
            "Avarage disp: 230.72187500000004\n"
          ]
        }
      ],
      "source": [
        "numCars = 32\n",
        "totDisp = 0\n",
        "totHorse = 0\n",
        "for disp in df[\"disp\"]:\n",
        "    totDisp += disp\n",
        "for horse in df[\"hp\"]:\n",
        "    totHorse += horse\n",
        "\n",
        "sortedDf = df.sort_values(\"cyl\")\n",
        "\n",
        "print(\"Avarage hp:\", totHorse/numCars)\n",
        "print(\"Avarage disp:\", totDisp/numCars)"
      ]
    },
    {
      "cell_type": "markdown",
      "metadata": {
        "id": "vyCQcR3zAhd7"
      },
      "source": [
        "### Question 12\n",
        "\n",
        "Create a new column in the dataframe whose value will be 1 if the car is of Toyota company and 0 otherwise."
      ]
    },
    {
      "cell_type": "code",
      "execution_count": 53,
      "metadata": {
        "id": "GH9KliwkAhd7"
      },
      "outputs": [
        {
          "name": "stdout",
          "output_type": "stream",
          "text": [
            "Toyota Corolla\n",
            "Toyota Corona\n"
          ]
        }
      ],
      "source": [
        "df[\"toyota\"] = 0\n",
        "for car in df[\"name\"]:\n",
        "    if \"Toyota\" in car:\n",
        "        print(car)"
      ]
    },
    {
      "cell_type": "markdown",
      "metadata": {
        "id": "lKGFbpP-Ahd7"
      },
      "source": [
        "### Question 13\n",
        "\n",
        "Define a function that will multiply all values in a column by 4, and apply it to the qsec column."
      ]
    },
    {
      "cell_type": "code",
      "execution_count": null,
      "metadata": {
        "id": "in9t0BtvAhd7"
      },
      "outputs": [],
      "source": []
    }
  ],
  "metadata": {
    "colab": {
      "collapsed_sections": [],
      "provenance": []
    },
    "kernelspec": {
      "display_name": "Python 3.10.6 64-bit",
      "language": "python",
      "name": "python3"
    },
    "language_info": {
      "codemirror_mode": {
        "name": "ipython",
        "version": 3
      },
      "file_extension": ".py",
      "mimetype": "text/x-python",
      "name": "python",
      "nbconvert_exporter": "python",
      "pygments_lexer": "ipython3",
      "version": "3.10.6"
    },
    "vscode": {
      "interpreter": {
        "hash": "aee8b7b246df8f9039afb4144a1f6fd8d2ca17a180786b69acc140d282b71a49"
      }
    }
  },
  "nbformat": 4,
  "nbformat_minor": 0
}
